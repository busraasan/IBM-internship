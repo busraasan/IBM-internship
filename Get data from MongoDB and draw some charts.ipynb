{
 "cells": [
  {
   "cell_type": "markdown",
   "id": "08e425af",
   "metadata": {},
   "source": [
    "## Get Data from MongoDB using PySpark"
   ]
  },
  {
   "cell_type": "code",
   "execution_count": 1,
   "id": "ab5b1dcc",
   "metadata": {},
   "outputs": [],
   "source": [
    "import pyspark\n",
    "from pyspark import SparkContext\n",
    "from pyspark.sql import SparkSession, SQLContext, HiveContext\n",
    "from pyspark.sql.functions import *"
   ]
  },
  {
   "cell_type": "code",
   "execution_count": 2,
   "id": "4b72c999",
   "metadata": {},
   "outputs": [
    {
     "name": "stdout",
     "output_type": "stream",
     "text": [
      "mongodb://localhost:27017/basan-son-data.\n"
     ]
    }
   ],
   "source": [
    "conf = pyspark.SparkConf().set(\"spark.jars.packages\", \n",
    "                               \"org.mongodb.spark:mongo-spark-connector_2.12:3.0.1\").setMaster(\"local\").setAppName(\"newApp\").setAll([(\"spark.driver.memory\", \"15g\"), (\"spark.executer.memory\", \"20g\")])\n",
    "sc = SparkContext(conf=conf)\n",
    "\n",
    "'''spark = SparkSession.builder \\\n",
    "    .master('local[*]') \\\n",
    "    .config(\"spark.driver.memory\", \"15g\") \\\n",
    "    .appName('newApp') \\\n",
    "    .getOrCreate()'''\n",
    "\n",
    "sqlC = SQLContext(sc)\n",
    "\n",
    "mongo_ip = \"mongodb://localhost:27017/basan-son-data.\"\n",
    "print(mongo_ip)"
   ]
  },
  {
   "cell_type": "code",
   "execution_count": 3,
   "id": "a303fb6a",
   "metadata": {},
   "outputs": [],
   "source": [
    "iris = sqlC.read.format(\"com.mongodb.spark.sql.DefaultSource\").option(\"uri\", mongo_ip + \"Iris\").load()"
   ]
  },
  {
   "cell_type": "code",
   "execution_count": 4,
   "id": "7e939076",
   "metadata": {},
   "outputs": [],
   "source": [
    "iris.createOrReplaceTempView(\"iris\")"
   ]
  },
  {
   "cell_type": "code",
   "execution_count": 5,
   "id": "de262a4c",
   "metadata": {},
   "outputs": [],
   "source": [
    "iris = sqlC.sql(\"SELECT * FROM iris\")"
   ]
  },
  {
   "cell_type": "code",
   "execution_count": 6,
   "id": "41e3aa52",
   "metadata": {
    "scrolled": true
   },
   "outputs": [
    {
     "name": "stdout",
     "output_type": "stream",
     "text": [
      "root\n",
      " |-- AVG_%_Processor_Time: double (nullable = true)\n",
      " |-- HR_Time: timestamp (nullable = true)\n",
      " |-- MAX_%_Processor_Time: integer (nullable = true)\n",
      " |-- MIN_%_Processor_Time: integer (nullable = true)\n",
      " |-- Processor: string (nullable = true)\n",
      " |-- SHIFTPERIOD: integer (nullable = true)\n",
      " |-- SUM_%_Processor_Time: integer (nullable = true)\n",
      " |-- Server_Name: string (nullable = true)\n",
      " |-- Timestamp: long (nullable = true)\n",
      " |-- WRITETIME: long (nullable = true)\n",
      " |-- _id: struct (nullable = true)\n",
      " |    |-- oid: string (nullable = true)\n",
      "\n"
     ]
    }
   ],
   "source": [
    "iris.printSchema()"
   ]
  },
  {
   "cell_type": "markdown",
   "id": "226c85f7",
   "metadata": {},
   "source": [
    "## Operating on Data"
   ]
  },
  {
   "cell_type": "markdown",
   "id": "5243df8f",
   "metadata": {},
   "source": [
    "Data is partitioned into client names and got the total processor usage."
   ]
  },
  {
   "cell_type": "code",
   "execution_count": 7,
   "id": "03adee5c",
   "metadata": {},
   "outputs": [],
   "source": [
    "aig = iris.filter(iris.Server_Name.contains('aig') & iris.Processor.contains('_Total'))\n",
    "eti = iris.filter(iris.Server_Name.contains('eti') & iris.Processor.contains('_Total'))\n",
    "tuv = iris.filter(iris.Server_Name.contains('tuv') & iris.Processor.contains('_Total'))\n",
    "aho = iris.filter(iris.Server_Name.contains('aho') & iris.Processor.contains('_Total'))\n",
    "zor = iris.filter(iris.Server_Name.contains('zor') & iris.Processor.contains('_Total'))"
   ]
  },
  {
   "cell_type": "markdown",
   "id": "8c11f9f3",
   "metadata": {},
   "source": [
    "Functions for different graph types"
   ]
  },
  {
   "cell_type": "code",
   "execution_count": 43,
   "id": "5601f1b1",
   "metadata": {},
   "outputs": [],
   "source": [
    "import matplotlib.pyplot as plt\n",
    "\n",
    "def draw_hourly_chart(dataframe, title):\n",
    "    \n",
    "    client_hours = dataframe.select(hour('HR_Time')).distinct().orderBy('hour(HR_Time)')\n",
    "    #empty arrays to be filled (will be used in matplotlib graphs)\n",
    "    x = []\n",
    "    y = []\n",
    "    temp = []\n",
    "    days = 31\n",
    "    \n",
    "    for anhour in client_hours.collect():\n",
    "        x.append(anhour[0]) #insert hour names into array to be used in x axis\n",
    "        #her saat için avg processor time columnı topla\n",
    "        df_for_hour = dataframe.filter(hour('HR_Time') == lit(anhour[0])).groupBy().sum('AVG_%_Processor_Time')\n",
    "        temp.append(df_for_hour.toPandas()[\"sum(AVG_%_Processor_Time)\"].values.tolist())\n",
    "        \n",
    "    for i in range(0,len(temp)):\n",
    "        y.append(temp[i][0])\n",
    "        \n",
    "    y1 = [value / days for value in y]\n",
    "    plt.xticks(x)\n",
    "    plt.title(title)\n",
    "    plt.bar(x,y1)\n",
    "    plt.show()"
   ]
  },
  {
   "cell_type": "code",
   "execution_count": 44,
   "id": "f63bc0c9",
   "metadata": {},
   "outputs": [
    {
     "data": {
      "image/png": "[encoded data removed]",
      "text/plain": [
       "<Figure size 432x288 with 1 Axes>"
      ]
     },
     "metadata": {
      "needs_background": "light"
     },
     "output_type": "display_data"
    }
   ],
   "source": [
    "title = \"All hosts average CPU usage by hours for aig\"\n",
    "draw_hourly_chart(aig, title)"
   ]
  },
  {
   "cell_type": "markdown",
   "id": "9540d9ef",
   "metadata": {},
   "source": [
    "For different hosts"
   ]
  },
  {
   "cell_type": "code",
   "execution_count": 45,
   "id": "fc150843",
   "metadata": {},
   "outputs": [],
   "source": [
    "aig_A =  aig.filter(aig.Server_Name.contains('A'))\n",
    "aig_B =  aig.filter(aig.Server_Name.contains('B'))\n",
    "aig_C =  aig.filter(aig.Server_Name.contains('C'))\n",
    "aig_D =  aig.filter(aig.Server_Name.contains('D'))\n",
    "aig_E =  aig.filter(aig.Server_Name.contains('E'))\n",
    "aig_F =  aig.filter(aig.Server_Name.contains('F'))\n",
    "aig_G =  aig.filter(aig.Server_Name.contains('G'))\n",
    "aig_H =  aig.filter(aig.Server_Name.contains('H'))\n",
    "aig_I =  aig.filter(aig.Server_Name.contains('I'))\n",
    "aig_J =  aig.filter(aig.Server_Name.contains('J'))"
   ]
  },
  {
   "cell_type": "code",
   "execution_count": 46,
   "id": "b5ae5481",
   "metadata": {},
   "outputs": [
    {
     "data": {
      "image/png": "[encoded data removed]",
      "text/plain": [
       "<Figure size 432x288 with 1 Axes>"
      ]
     },
     "metadata": {
      "needs_background": "light"
     },
     "output_type": "display_data"
    }
   ],
   "source": [
    "title = \"Host A average CPU usage by hours for aig\"\n",
    "draw_hourly_chart(aig_A, title)"
   ]
  },
  {
   "cell_type": "code",
   "execution_count": null,
   "id": "3e221013",
   "metadata": {},
   "outputs": [],
   "source": []
  },
  {
   "cell_type": "code",
   "execution_count": null,
   "id": "227941b5",
   "metadata": {},
   "outputs": [],
   "source": []
  }
 ],
 "metadata": {
  "kernelspec": {
   "display_name": "Python 3",
   "language": "python",
   "name": "python3"
  },
  "language_info": {
   "codemirror_mode": {
    "name": "ipython",
    "version": 3
   },
   "file_extension": ".py",
   "mimetype": "text/x-python",
   "name": "python",
   "nbconvert_exporter": "python",
   "pygments_lexer": "ipython3",
   "version": "3.8.8"
  }
 },
 "nbformat": 4,
 "nbformat_minor": 5
}
